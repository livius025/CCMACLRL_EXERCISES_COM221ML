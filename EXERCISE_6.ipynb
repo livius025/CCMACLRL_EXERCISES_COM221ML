{
  "nbformat": 4,
  "nbformat_minor": 0,
  "metadata": {
    "colab": {
      "provenance": []
    },
    "kernelspec": {
      "name": "python3",
      "display_name": "Python 3"
    },
    "language_info": {
      "name": "python"
    }
  },
  "cells": [
    {
      "cell_type": "code",
      "execution_count": 43,
      "metadata": {
        "colab": {
          "base_uri": "https://localhost:8080/",
          "height": 640
        },
        "id": "BiRdsU37ZGWc",
        "outputId": "3f6198d1-5911-4c81-ef46-a268435f6f7e"
      },
      "outputs": [
        {
          "output_type": "stream",
          "name": "stdout",
          "text": [
            "              precision    recall  f1-score   support\n",
            "\n",
            "           0       0.90      0.86      0.88       110\n",
            "           1       0.79      0.84      0.82        69\n",
            "\n",
            "    accuracy                           0.85       179\n",
            "   macro avg       0.85      0.85      0.85       179\n",
            "weighted avg       0.86      0.85      0.86       179\n",
            "\n",
            "Optimized Model Accuracy: 0.8547\n",
            "Submission file created: submission_file.csv\n"
          ]
        },
        {
          "output_type": "display_data",
          "data": {
            "text/plain": [
              "<Figure size 640x480 with 2 Axes>"
            ],
            "image/png": "[encoded data removed]"
          },
          "metadata": {}
        }
      ],
      "source": [
        "import pandas as pd\n",
        "import seaborn as sns\n",
        "from sklearn.model_selection import train_test_split, GridSearchCV\n",
        "from sklearn.linear_model import LogisticRegression\n",
        "from sklearn.preprocessing import StandardScaler\n",
        "from sklearn.metrics import ConfusionMatrixDisplay, classification_report\n",
        "from sklearn.impute import SimpleImputer\n",
        "import numpy as np\n",
        "\n",
        "# Load dataset\n",
        "dataset_url = 'https://github.com/robitussin/CCMACLRL_EXERCISES/blob/f5fdfba1aabbbafcf2fe49ca6e1c8f92f69d1458/datasets/titanic/train.csv?raw=true'\n",
        "df = pd.read_csv(dataset_url)\n",
        "\n",
        "# Select features and target\n",
        "df = df[['Survived', 'Age', 'Sex', 'Pclass', 'Fare', 'SibSp', 'Parch', 'Name']]\n",
        "\n",
        "# Extract title from names\n",
        "df['Title'] = df['Name'].str.extract(' ([A-Za-z]+)\\.', expand=False)\n",
        "df['Title'] = df['Title'].replace(['Lady', 'Countess', 'Capt', 'Col', 'Don', 'Dr', 'Major', 'Rev', 'Sir', 'Jonkheer', 'Dona'], 'Rare')\n",
        "df['Title'] = df['Title'].replace(['Mlle', 'Ms'], 'Miss')\n",
        "df['Title'] = df['Title'].replace('Mme', 'Mrs')\n",
        "df.drop('Name', axis=1, inplace=True)\n",
        "\n",
        "# Impute missing values in 'Age'\n",
        "imputer = SimpleImputer(strategy='mean')\n",
        "df['Age'] = imputer.fit_transform(df[['Age']])\n",
        "\n",
        "# Create a new feature 'FamilySize'\n",
        "df['FamilySize'] = df['SibSp'] + df['Parch'] + 1\n",
        "\n",
        "# Create Fare per person feature\n",
        "df['Fare_Per_Person'] = df['Fare'] / df['FamilySize']\n",
        "\n",
        "# One-hot encode categorical variables\n",
        "df = pd.get_dummies(df, columns=['Sex', 'Pclass', 'Title'], drop_first=True)\n",
        "\n",
        "# Drop unnecessary columns\n",
        "df.drop(['SibSp', 'Parch', 'Fare'], axis=1, inplace=True)\n",
        "\n",
        "# Split data into features (X) and target (y)\n",
        "X = df.drop('Survived', axis=1)\n",
        "y = df['Survived']\n",
        "\n",
        "# Feature scaling\n",
        "scaler = StandardScaler()\n",
        "X = scaler.fit_transform(X)\n",
        "\n",
        "# Split into train and test sets\n",
        "x_train, x_test, y_train, y_test = train_test_split(X, y, test_size=0.2, stratify=y, random_state=42)\n",
        "\n",
        "# Initialize Logistic Regression with GridSearchCV for hyperparameter tuning\n",
        "param_grid = {\n",
        "    'C': [0.1, 1, 10, 100, 1000],\n",
        "    'solver': ['lbfgs', 'liblinear'],\n",
        "    'max_iter': [100, 200, 300, 500]\n",
        "}\n",
        "\n",
        "grid = GridSearchCV(LogisticRegression(random_state=42, class_weight='balanced'), param_grid, cv=5)\n",
        "grid.fit(x_train, y_train)\n",
        "\n",
        "# Best model\n",
        "model = grid.best_estimator_\n",
        "\n",
        "# Model evaluation\n",
        "y_pred = model.predict(x_test)\n",
        "ConfusionMatrixDisplay.from_predictions(y_test, y_pred)\n",
        "print(classification_report(y_test, y_pred))\n",
        "\n",
        "# Print model score\n",
        "print(f'Optimized Model Accuracy: {model.score(x_test, y_test):.4f}')\n",
        "\n",
        "# Test dataset (dt)\n",
        "test_url = 'https://github.com/robitussin/CCMACLRL_EXERCISES/blob/f5fdfba1aabbbafcf2fe49ca6e1c8f92f69d1458/datasets/titanic/test.csv?raw=true'\n",
        "dt = pd.read_csv(test_url)\n",
        "\n",
        "# Same feature engineering for test set\n",
        "dt = dt[['PassengerId', 'Name', 'Sex', 'Age', 'Pclass', 'Fare', 'SibSp', 'Parch']]\n",
        "dt['Title'] = dt['Name'].str.extract(' ([A-Za-z]+)\\.', expand=False)\n",
        "dt['Title'] = dt['Title'].replace(['Lady', 'Countess', 'Capt', 'Col', 'Don', 'Dr', 'Major', 'Rev', 'Sir', 'Jonkheer', 'Dona'], 'Rare')\n",
        "dt['Title'] = dt['Title'].replace(['Mlle', 'Ms'], 'Miss')\n",
        "dt['Title'] = dt['Title'].replace('Mme', 'Mrs')\n",
        "dt.drop('Name', axis=1, inplace=True)\n",
        "\n",
        "# Impute missing values in 'Age' and 'Fare'\n",
        "dt['Age'] = imputer.transform(dt[['Age']])\n",
        "dt['Fare'].fillna(dt['Fare'].median(), inplace=True)\n",
        "\n",
        "# Create 'FamilySize' and 'Fare_Per_Person'\n",
        "dt['FamilySize'] = dt['SibSp'] + dt['Parch'] + 1\n",
        "dt['Fare_Per_Person'] = dt['Fare'] / dt['FamilySize']\n",
        "\n",
        "# One-hot encode categorical variables\n",
        "dt = pd.get_dummies(dt, columns=['Sex', 'Pclass', 'Title'], drop_first=True)\n",
        "\n",
        "# Drop unnecessary columns\n",
        "dt.drop(['SibSp', 'Parch', 'Fare'], axis=1, inplace=True)\n",
        "\n",
        "# Scale features\n",
        "dt_scaled = scaler.transform(dt.drop('PassengerId', axis=1))\n",
        "\n",
        "# Predict survival for the test dataset\n",
        "y_test_pred = model.predict(dt_scaled)\n",
        "\n",
        "# Prepare the submission\n",
        "submission_df = pd.DataFrame({\n",
        "    'PassengerId': dt['PassengerId'],\n",
        "    'Survived': y_test_pred\n",
        "})\n",
        "\n",
        "# Save the submission DataFrame to a CSV file\n",
        "submission_df.to_csv('submission_file.csv', index=False)\n",
        "print(\"Submission file created: submission_file.csv\")\n"
      ]
    },
    {
      "cell_type": "code",
      "source": [
        "model.score(x_test, y_test)"
      ],
      "metadata": {
        "colab": {
          "base_uri": "https://localhost:8080/"
        },
        "id": "VLdHoQGn1Zc0",
        "outputId": "1aa034d8-0fab-4547-f153-d80999e19b0c"
      },
      "execution_count": 26,
      "outputs": [
        {
          "output_type": "execute_result",
          "data": {
            "text/plain": [
              "0.8547486033519553"
            ]
          },
          "metadata": {},
          "execution_count": 26
        }
      ]
    }
  ]
}